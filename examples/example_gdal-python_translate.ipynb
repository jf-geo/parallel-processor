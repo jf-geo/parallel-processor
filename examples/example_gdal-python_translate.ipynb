{
 "cells": [
  {
   "cell_type": "markdown",
   "metadata": {},
   "source": [
    "# Title\n",
    "Intro"
   ]
  },
  {
   "cell_type": "code",
   "execution_count": null,
   "metadata": {},
   "outputs": [],
   "source": [
    "# Import modules\n",
    "%matplotlib inline\n",
    "\n",
    "\n",
    "import os\n",
    "import sys\n",
    "import matplotlib\n",
    "\n",
    "import matplotlib.pyplot as plt\n",
    "import matplotlib.image as mpimg\n",
    "import numpy as np\n",
    "\n",
    "from osgeo import gdal\n",
    "from functools import partial\n",
    "from pathlib import Path\n",
    "from pprint import pprint\n",
    "from math import ceil\n",
    "\n",
    "gdal.UseExceptions()"
   ]
  },
  {
   "cell_type": "code",
   "execution_count": null,
   "metadata": {},
   "outputs": [],
   "source": [
    "# Map parallel processor location\n",
    "src = Path.cwd().parent.joinpath(\"src\").as_posix()\n",
    "\n",
    "sys.path.insert(0, src)\n",
    "\n",
    "# Import repo modules\n",
    "from parallelprocessor import ParallelProcessor\n",
    "from example_workers import gdal_translate"
   ]
  },
  {
   "cell_type": "code",
   "execution_count": null,
   "metadata": {},
   "outputs": [],
   "source": [
    "help(gdal_translate)"
   ]
  },
  {
   "cell_type": "markdown",
   "metadata": {},
   "source": [
    "Define functions"
   ]
  },
  {
   "cell_type": "code",
   "execution_count": null,
   "metadata": {},
   "outputs": [],
   "source": [
    "def geotiff_to_rgb_array(raster):\n",
    "    \"\"\"Read a RGB geotiff and return a np.array which can be plotted by matplotlib.\"\"\"\n",
    "    \n",
    "    src = gdal.Open(raster, 0)\n",
    "\n",
    "    bands = tuple(\n",
    "        src.GetRasterBand(i + 1).ReadAsArray()\n",
    "        for i in range(src.RasterCount)\n",
    "    )\n",
    "    \n",
    "    src = None\n",
    "    \n",
    "    arr = np.dstack(bands)\n",
    "    \n",
    "    return arr"
   ]
  },
  {
   "cell_type": "markdown",
   "metadata": {},
   "source": [
    "Set up paths"
   ]
  },
  {
   "cell_type": "code",
   "execution_count": null,
   "metadata": {},
   "outputs": [],
   "source": [
    "examples = Path.cwd()\n",
    "\n",
    "data = examples.parent.joinpath(\"data\")\n",
    "\n",
    "tiles = data.joinpath(\"tiles\")\n",
    "\n",
    "if not tiles.exists():\n",
    "    tiles.mkdir()\n",
    "\n",
    "geotiff = data.joinpath(\"geotiffs\", \"wellington-03m-rural-aerial-photos-2021.tif\")\n",
    "\n",
    "geotiff_path = geotiff.as_posix()\n",
    "\n",
    "tile_base = tiles.joinpath(geotiff.stem + \"_{}_{}.tif\").as_posix()"
   ]
  },
  {
   "cell_type": "markdown",
   "metadata": {},
   "source": [
    "Preview input"
   ]
  },
  {
   "cell_type": "code",
   "execution_count": null,
   "metadata": {},
   "outputs": [],
   "source": [
    "img_array = geotiff_to_rgb_array(geotiff_path)\n",
    "\n",
    "plt.imshow(img_array, )\n",
    "\n",
    "plt.show()\n",
    "\n",
    "img_array = None"
   ]
  },
  {
   "cell_type": "markdown",
   "metadata": {},
   "source": [
    "Create pixel offset windows"
   ]
  },
  {
   "cell_type": "code",
   "execution_count": null,
   "metadata": {},
   "outputs": [],
   "source": [
    "# Get raster dimensions\n",
    "src = gdal.Open(geotiff_path, 0)\n",
    "\n",
    "width = src.RasterXSize\n",
    "height = src.RasterYSize\n",
    "\n",
    "src = None"
   ]
  },
  {
   "cell_type": "code",
   "execution_count": null,
   "metadata": {},
   "outputs": [],
   "source": [
    "x_0 = 0\n",
    "y_0 = 0\n",
    "x_step = 256\n",
    "y_step = 256\n",
    "\n",
    "f_x_step = lambda i, width, x_step: x_step if i + x_step <= width else width - i\n",
    "f_y_step = lambda j, height, y_step: y_step if j + y_step <= height else height - j\n",
    "\n",
    "f = partial(f_x_step, width=width, x_step=x_step)\n",
    "g = partial(f_y_step, height=height, y_step=y_step)\n",
    "\n",
    "windows = [\n",
    "    (\n",
    "        tile_base.format(\n",
    "            ceil(i/x_step),\n",
    "            ceil(j/y_step)\n",
    "        ), \n",
    "        [i, j, f(i), g(j)],\n",
    "    )\n",
    "    for i in range(x_0, width, x_step)\n",
    "    for j in range(y_0, height, y_step)\n",
    "]"
   ]
  },
  {
   "cell_type": "code",
   "execution_count": null,
   "metadata": {},
   "outputs": [],
   "source": [
    "for tile_name, tile_offsets in windows[:5]:\n",
    "    print(Path(tile_name).name, tile_offsets)"
   ]
  },
  {
   "cell_type": "markdown",
   "metadata": {},
   "source": [
    "Create gdal_translate commands"
   ]
  },
  {
   "cell_type": "code",
   "execution_count": null,
   "metadata": {},
   "outputs": [],
   "source": [
    "argument_list = [\n",
    "    {\n",
    "        \"process_id\": tile_path,\n",
    "        \"func_args\": (tile_path, geotiff_path),\n",
    "        \"func_kwargs\": {\n",
    "            \"format\": \"COG\",\n",
    "            \"srcWin\": window,\n",
    "            \"creationOptions\": [\n",
    "                \"COMPRESS=WEBP\",\n",
    "                \"QUALITY=90\",\n",
    "                \"PREDICTOR=YES\",\n",
    "            ],\n",
    "        }\n",
    "    }\n",
    "    for tile_path, window in windows\n",
    "]"
   ]
  },
  {
   "cell_type": "code",
   "execution_count": null,
   "metadata": {},
   "outputs": [],
   "source": [
    "pprint(argument_list[0])"
   ]
  },
  {
   "cell_type": "markdown",
   "metadata": {},
   "source": [
    "Initialize parallel processer and set arguments"
   ]
  },
  {
   "cell_type": "code",
   "execution_count": null,
   "metadata": {},
   "outputs": [],
   "source": [
    "parallel_processor = ParallelProcessor(gdal_translate)\n",
    "\n",
    "for argument_dict in argument_list:\n",
    "    parallel_processor.add_argument(**argument_dict)"
   ]
  },
  {
   "cell_type": "code",
   "execution_count": null,
   "metadata": {},
   "outputs": [],
   "source": [
    "parallel_processor.run(progressbar=True, timeout=60*10)"
   ]
  },
  {
   "cell_type": "code",
   "execution_count": null,
   "metadata": {},
   "outputs": [],
   "source": [
    "results = parallel_processor.results"
   ]
  },
  {
   "cell_type": "markdown",
   "metadata": {},
   "source": [
    "Display results"
   ]
  },
  {
   "cell_type": "code",
   "execution_count": null,
   "metadata": {},
   "outputs": [],
   "source": [
    "rasters = {}\n",
    "\n",
    "x_max = 0\n",
    "y_max = 0\n",
    "\n",
    "for raster, status in results.items():\n",
    "    if status:\n",
    "        x, y = map(int, Path(raster).stem.rsplit(\"_\")[-2:])\n",
    "        x_max = x if x > x_max else x_max\n",
    "        y_max = y if y > y_max else y_max\n",
    "        rasters[raster] = (x, y)"
   ]
  },
  {
   "cell_type": "code",
   "execution_count": null,
   "metadata": {},
   "outputs": [],
   "source": [
    "fig, axes = plt.subplots(x_max + 1, y_max + 1, figsize=(15, 15))\n",
    "\n",
    "for raster, (x, y) in rasters.items():\n",
    "    \n",
    "    img_array = geotiff_to_rgb_array(geotiff_path)\n",
    "\n",
    "    ax = axes[y][x]\n",
    "    \n",
    "    ax.axes.get_xaxis().set_visible(False)\n",
    "    ax.axes.get_yaxis().set_visible(False)\n",
    "    \n",
    "    ax.imshow(img_array)\n",
    "\n",
    "plt.show()\n",
    "\n",
    "img_array = None"
   ]
  }
 ],
 "metadata": {
  "kernelspec": {
   "display_name": "Python 3 (ipykernel)",
   "language": "python",
   "name": "python3"
  },
  "language_info": {
   "codemirror_mode": {
    "name": "ipython",
    "version": 3
   },
   "file_extension": ".py",
   "mimetype": "text/x-python",
   "name": "python",
   "nbconvert_exporter": "python",
   "pygments_lexer": "ipython3",
   "version": "3.7.9"
  }
 },
 "nbformat": 4,
 "nbformat_minor": 4
}
