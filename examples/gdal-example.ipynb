{
 "cells": [
  {
   "cell_type": "markdown",
   "metadata": {},
   "source": [
    "# Title\n",
    "Intro"
   ]
  },
  {
   "cell_type": "code",
   "execution_count": null,
   "metadata": {},
   "outputs": [],
   "source": [
    "# Import modules\n",
    "%matplotlib inline\n",
    "\n",
    "\n",
    "import os\n",
    "import sys\n",
    "import matplotlib\n",
    "\n",
    "import matplotlib.pyplot as plt\n",
    "\n",
    "from osgeo import gdal\n",
    "from functools import partial\n",
    "from pathlib import Path\n",
    "\n",
    "gdal.UseExceptions()"
   ]
  },
  {
   "cell_type": "code",
   "execution_count": null,
   "metadata": {},
   "outputs": [],
   "source": [
    "src = Path(__file__).parent.joinpath(\"src\").as_posix()\n",
    "\n",
    "sys.path.insert(0, src)\n",
    "\n",
    "from parallelprocessor import ParallelProcessor"
   ]
  },
  {
   "cell_type": "markdown",
   "metadata": {},
   "source": [
    "Set up paths"
   ]
  },
  {
   "cell_type": "code",
   "execution_count": null,
   "metadata": {},
   "outputs": [],
   "source": [
    "examples = Path(__file__)\n",
    "\n",
    "data = examples.parent.joinpath(\"data\")\n",
    "\n",
    "tiles = data.joinpath(\"tiles\")\n",
    "\n",
    "if not tiles.exists():\n",
    "    tiles.mkdir()\n",
    "\n",
    "geotiff = data.joinpath(\"geotiffs\", \"wellington-03m-rural-aerial-photos-2021.tif\")\n",
    "\n",
    "geotiff_path = geotiff.as_posix()\n",
    "\n",
    "tile_base = tiles.joinpath(geotiff.stem + \"_{}_{}.ecw\").as_posix()"
   ]
  },
  {
   "cell_type": "markdown",
   "metadata": {},
   "source": [
    "Create pixel offset windows"
   ]
  },
  {
   "cell_type": "code",
   "execution_count": null,
   "metadata": {},
   "outputs": [],
   "source": [
    "\n",
    "src = gdal.Open(fn, 0)\n",
    "\n",
    "width = src.RasterXSize\n",
    "height = src.RasterYSize\n",
    "\n",
    "x_0 = 0\n",
    "y_0 = 0\n",
    "x_step = 256\n",
    "y_step = 256\n",
    "\n",
    "f_x_step = lambda i, width, x_step: x_step if i + x_step <= width else width - i\n",
    "f_y_step = lambda j, height, y_step: y_step if j + y_step <= height else height - j\n",
    "\n",
    "f = partial(f_x_step, width=width, x_step=x_step)\n",
    "g = partial(f_y_step, height=height, y_step=y_step)\n",
    "\n",
    "windows = [\n",
    "    (\n",
    "        tile_base.format(i, j), \n",
    "        [i, j, f(i), g(j)],\n",
    "    )\n",
    "    for i in range(x_0, width, x_step)\n",
    "    for j in range(y_0, height, y_step)\n",
    "]\n",
    "\n",
    "src = None"
   ]
  },
  {
   "cell_type": "markdown",
   "metadata": {},
   "source": [
    "Create gdal_translate commands"
   ]
  },
  {
   "cell_type": "code",
   "execution_count": null,
   "metadata": {},
   "outputs": [],
   "source": [
    "func = gdal.Translate\n",
    "\n",
    "argument_list = [\n",
    "    {\n",
    "        \"process_id\": tile_path,\n",
    "        \"func_args\": (tile_path, geotiff_path),\n",
    "        \"func_kwargs\" = {\n",
    "            \"options\": gdal.TranslateOptions(\n",
    "                format=\"ECW\",\n",
    "                srcWin=window,\n",
    "                creationOptions=[\"TARGET=100\"]\n",
    "            )\n",
    "        }\n",
    "    }\n",
    "]"
   ]
  },
  {
   "cell_type": "markdown",
   "metadata": {},
   "source": []
  },
  {
   "cell_type": "code",
   "execution_count": null,
   "metadata": {},
   "outputs": [],
   "source": [
    "parallel_processor = ParallelProcessor(func)\n",
    "\n",
    "for argument_dict in argument_list:\n",
    "    parallel_processor.add_argument(*argument_dict)"
   ]
  },
  {
   "cell_type": "code",
   "execution_count": null,
   "metadata": {},
   "outputs": [],
   "source": [
    "parallel_processor.run(progressbar=True, timeout=60*10)"
   ]
  },
  {
   "cell_type": "code",
   "execution_count": null,
   "metadata": {},
   "outputs": [],
   "source": [
    "results = parallel_processor.results"
   ]
  },
  {
   "cell_type": "markdown",
   "metadata": {},
   "source": [
    "Display results"
   ]
  },
  {
   "cell_type": "code",
   "execution_count": null,
   "metadata": {},
   "outputs": [],
   "source": [
    "def dispay_raster(raster):\n",
    "\n",
    "    src = gdal.Open(raster, 0)\n",
    "\n",
    "    bands = (\n",
    "        src.GetRasterBand(i + 1).ReadAsArray()\n",
    "        for i in range(src.RasterCount)\n",
    "    )\n",
    "    \n",
    "    img = np.dstack(bands)\n",
    "\n",
    "    f = plt.figure()\n",
    "\n",
    "    plt.imshow(img)\n",
    "\n",
    "    plt.show()\n",
    "\n",
    "    return f"
   ]
  },
  {
   "cell_type": "code",
   "execution_count": null,
   "metadata": {},
   "outputs": [],
   "source": [
    "for ecw, status in results.items():\n",
    "    if status:\n",
    "        _ = dispay_raster(ecw)"
   ]
  }
 ],
 "metadata": {
  "language_info": {
   "name": "python"
  },
  "orig_nbformat": 4
 },
 "nbformat": 4,
 "nbformat_minor": 2
}
