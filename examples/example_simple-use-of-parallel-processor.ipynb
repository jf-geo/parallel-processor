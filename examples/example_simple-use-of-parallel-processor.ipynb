{
 "cells": [
  {
   "cell_type": "markdown",
   "id": "a25c78d1",
   "metadata": {},
   "source": [
    "# Example - Simple use of ParallelProcessor\n",
    "Intro"
   ]
  },
  {
   "cell_type": "code",
   "execution_count": null,
   "id": "bd7f6ee8",
   "metadata": {},
   "outputs": [],
   "source": [
    "# Import modules\n",
    "\n",
    "import sys\n",
    "\n",
    "from pathlib import Path\n",
    "from pprint import pprint\n",
    "\n",
    "# Map parallel processor location\n",
    "src = Path.cwd().parent.joinpath(\"src\").as_posix()\n",
    "\n",
    "sys.path.insert(0, src)\n",
    "\n",
    "# Import repo modules\n",
    "from parallelprocessor import ParallelProcessor\n",
    "from example_workers import print_process_id"
   ]
  },
  {
   "cell_type": "code",
   "execution_count": null,
   "id": "fdeba7ca",
   "metadata": {},
   "outputs": [],
   "source": [
    "help(print_process_id)"
   ]
  },
  {
   "cell_type": "markdown",
   "id": "a5c98994",
   "metadata": {},
   "source": []
  },
  {
   "cell_type": "code",
   "execution_count": null,
   "id": "871bcd56",
   "metadata": {},
   "outputs": [],
   "source": [
    "num_processes = 20"
   ]
  },
  {
   "cell_type": "code",
   "execution_count": null,
   "id": "70eb8676",
   "metadata": {},
   "outputs": [],
   "source": [
    "parallel_processor = ParallelProcessor(print_process_id)\n",
    "\n",
    "for i in range(num_processes):\n",
    "     parallel_processor.add_argument(process_id=i, func_args=(i,))"
   ]
  },
  {
   "cell_type": "code",
   "execution_count": null,
   "id": "b388180b",
   "metadata": {},
   "outputs": [],
   "source": [
    "parallel_processor.run()"
   ]
  },
  {
   "cell_type": "code",
   "execution_count": null,
   "id": "674c1241",
   "metadata": {},
   "outputs": [],
   "source": [
    "results = parallel_processor.results\n",
    "\n",
    "pprint(results)"
   ]
  },
  {
   "cell_type": "code",
   "execution_count": null,
   "id": "f33ca484",
   "metadata": {},
   "outputs": [],
   "source": []
  },
  {
   "cell_type": "code",
   "execution_count": null,
   "id": "965bffbd",
   "metadata": {},
   "outputs": [],
   "source": []
  }
 ],
 "metadata": {
  "kernelspec": {
   "display_name": "Python 3 (ipykernel)",
   "language": "python",
   "name": "python3"
  },
  "language_info": {
   "codemirror_mode": {
    "name": "ipython",
    "version": 3
   },
   "file_extension": ".py",
   "mimetype": "text/x-python",
   "name": "python",
   "nbconvert_exporter": "python",
   "pygments_lexer": "ipython3",
   "version": "3.7.9"
  }
 },
 "nbformat": 4,
 "nbformat_minor": 5
}
